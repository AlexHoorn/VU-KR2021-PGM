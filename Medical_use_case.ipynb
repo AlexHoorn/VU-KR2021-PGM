{
 "cells": [
  {
   "cell_type": "markdown",
   "metadata": {
    "id": "OEvsRTg2G-JF"
   },
   "source": [
    "# ***Bayes Theory applied on medical use case***"
   ]
  },
  {
   "cell_type": "code",
   "execution_count": 1,
   "metadata": {
    "colab": {
     "base_uri": "https://localhost:8080/"
    },
    "id": "KEAMB5Zd9Rvb",
    "outputId": "df69439f-675c-417d-d6ab-601a7bee2103"
   },
   "outputs": [
    {
     "data": {
      "text/plain": [
       "['Junk-Food',\n",
       " 'Stress',\n",
       " 'Job-loss',\n",
       " 'Weight-gain',\n",
       " 'Insulin-resistance',\n",
       " 'Anxiety',\n",
       " 'High-blood-pressure',\n",
       " 'Alcohol-consumption',\n",
       " 'Trauma',\n",
       " 'Diabetes',\n",
       " 'Depression',\n",
       " 'Stroke']"
      ]
     },
     "execution_count": 1,
     "metadata": {},
     "output_type": "execute_result"
    }
   ],
   "source": [
    "import pandas as pd\n",
    "\n",
    "from BayesNet import BayesNet\n",
    "from BNReasoner import BNReasoner\n",
    "\n",
    "# Instantiation of the Medical use case\n",
    "net = BayesNet()\n",
    "bn = BNReasoner(net)\n",
    "net.load_from_bifxml(\"task3/medical_use_case.BIFXML\")\n",
    "\n",
    "# All nodes in the use case\n",
    "net.get_all_variables()"
   ]
  },
  {
   "cell_type": "markdown",
   "metadata": {
    "id": "wwfyvuENTKt2"
   },
   "source": [
    "# **Prior marginal**\n",
    "\n",
    "---\n",
    "\n",
    "In the examples below we demonstrate the calculation of prior marginals. Without any evidence, the following prior marginals can be calculated:\n",
    "\n",
    "Probability of Job-loss"
   ]
  },
  {
   "cell_type": "code",
   "execution_count": 2,
   "metadata": {
    "colab": {
     "base_uri": "https://localhost:8080/",
     "height": 112
    },
    "id": "i95ZS-yC9jRj",
    "outputId": "3cf7a885-5b00-42f6-91a6-b098934a2c79"
   },
   "outputs": [
    {
     "data": {
      "text/html": [
       "<div>\n",
       "<style scoped>\n",
       "    .dataframe tbody tr th:only-of-type {\n",
       "        vertical-align: middle;\n",
       "    }\n",
       "\n",
       "    .dataframe tbody tr th {\n",
       "        vertical-align: top;\n",
       "    }\n",
       "\n",
       "    .dataframe thead th {\n",
       "        text-align: right;\n",
       "    }\n",
       "</style>\n",
       "<table border=\"1\" class=\"dataframe\">\n",
       "  <thead>\n",
       "    <tr style=\"text-align: right;\">\n",
       "      <th></th>\n",
       "      <th>Job-loss</th>\n",
       "      <th>p</th>\n",
       "    </tr>\n",
       "  </thead>\n",
       "  <tbody>\n",
       "    <tr>\n",
       "      <th>0</th>\n",
       "      <td>True</td>\n",
       "      <td>0.8</td>\n",
       "    </tr>\n",
       "    <tr>\n",
       "      <th>1</th>\n",
       "      <td>False</td>\n",
       "      <td>0.2</td>\n",
       "    </tr>\n",
       "  </tbody>\n",
       "</table>\n",
       "</div>"
      ],
      "text/plain": [
       "   Job-loss    p\n",
       "0      True  0.8\n",
       "1     False  0.2"
      ]
     },
     "execution_count": 2,
     "metadata": {},
     "output_type": "execute_result"
    }
   ],
   "source": [
    "bn.marginal_distribution([\"Job-loss\"], {})"
   ]
  },
  {
   "cell_type": "markdown",
   "metadata": {
    "id": "aK7Y4Sizs1UI"
   },
   "source": [
    "Probability of Alcohol-consumption"
   ]
  },
  {
   "cell_type": "code",
   "execution_count": 3,
   "metadata": {
    "colab": {
     "base_uri": "https://localhost:8080/",
     "height": 112
    },
    "id": "jfWxtdmOs-5W",
    "outputId": "0bebe66a-826e-4731-9068-acca2f4d54c8"
   },
   "outputs": [
    {
     "data": {
      "text/html": [
       "<div>\n",
       "<style scoped>\n",
       "    .dataframe tbody tr th:only-of-type {\n",
       "        vertical-align: middle;\n",
       "    }\n",
       "\n",
       "    .dataframe tbody tr th {\n",
       "        vertical-align: top;\n",
       "    }\n",
       "\n",
       "    .dataframe thead th {\n",
       "        text-align: right;\n",
       "    }\n",
       "</style>\n",
       "<table border=\"1\" class=\"dataframe\">\n",
       "  <thead>\n",
       "    <tr style=\"text-align: right;\">\n",
       "      <th></th>\n",
       "      <th>Alcohol-consumption</th>\n",
       "      <th>p</th>\n",
       "    </tr>\n",
       "  </thead>\n",
       "  <tbody>\n",
       "    <tr>\n",
       "      <th>0</th>\n",
       "      <td>True</td>\n",
       "      <td>0.84</td>\n",
       "    </tr>\n",
       "    <tr>\n",
       "      <th>1</th>\n",
       "      <td>False</td>\n",
       "      <td>0.16</td>\n",
       "    </tr>\n",
       "  </tbody>\n",
       "</table>\n",
       "</div>"
      ],
      "text/plain": [
       "   Alcohol-consumption     p\n",
       "0                 True  0.84\n",
       "1                False  0.16"
      ]
     },
     "execution_count": 3,
     "metadata": {},
     "output_type": "execute_result"
    }
   ],
   "source": [
    "bn.marginal_distribution([\"Alcohol-consumption\"], {})"
   ]
  },
  {
   "cell_type": "markdown",
   "metadata": {
    "id": "KY3RvBZZtMAT"
   },
   "source": [
    "\n",
    "Probability of Diabetes-consumption and Anxiety\n"
   ]
  },
  {
   "cell_type": "code",
   "execution_count": 4,
   "metadata": {
    "colab": {
     "base_uri": "https://localhost:8080/",
     "height": 175
    },
    "id": "7lO91ZbPtW32",
    "outputId": "85c5258b-d10d-472c-f0bc-741958c208cc"
   },
   "outputs": [
    {
     "data": {
      "text/html": [
       "<div>\n",
       "<style scoped>\n",
       "    .dataframe tbody tr th:only-of-type {\n",
       "        vertical-align: middle;\n",
       "    }\n",
       "\n",
       "    .dataframe tbody tr th {\n",
       "        vertical-align: top;\n",
       "    }\n",
       "\n",
       "    .dataframe thead th {\n",
       "        text-align: right;\n",
       "    }\n",
       "</style>\n",
       "<table border=\"1\" class=\"dataframe\">\n",
       "  <thead>\n",
       "    <tr style=\"text-align: right;\">\n",
       "      <th></th>\n",
       "      <th>Diabetes</th>\n",
       "      <th>Anxiety</th>\n",
       "      <th>p</th>\n",
       "    </tr>\n",
       "  </thead>\n",
       "  <tbody>\n",
       "    <tr>\n",
       "      <th>0</th>\n",
       "      <td>True</td>\n",
       "      <td>True</td>\n",
       "      <td>0.605208</td>\n",
       "    </tr>\n",
       "    <tr>\n",
       "      <th>1</th>\n",
       "      <td>True</td>\n",
       "      <td>False</td>\n",
       "      <td>0.237363</td>\n",
       "    </tr>\n",
       "    <tr>\n",
       "      <th>2</th>\n",
       "      <td>False</td>\n",
       "      <td>True</td>\n",
       "      <td>0.113792</td>\n",
       "    </tr>\n",
       "    <tr>\n",
       "      <th>3</th>\n",
       "      <td>False</td>\n",
       "      <td>False</td>\n",
       "      <td>0.043637</td>\n",
       "    </tr>\n",
       "  </tbody>\n",
       "</table>\n",
       "</div>"
      ],
      "text/plain": [
       "   Diabetes  Anxiety         p\n",
       "0      True     True  0.605208\n",
       "1      True    False  0.237363\n",
       "2     False     True  0.113792\n",
       "3     False    False  0.043637"
      ]
     },
     "execution_count": 4,
     "metadata": {},
     "output_type": "execute_result"
    }
   ],
   "source": [
    "bn.marginal_distribution([\"Diabetes\", \"Anxiety\"], {})"
   ]
  },
  {
   "cell_type": "markdown",
   "metadata": {
    "id": "O_lk1dQcuDLM"
   },
   "source": [
    "# **Posterior marginal**\n",
    "\n",
    "---\n",
    "\n",
    "In these examples below we demonstrate the calculation of posterior marginals. Without any evidence, the following prior marginals can be calculated:\n",
    "\n",
    "The probability of Alcohol consumption if it is known that Job-loss is true. It is clear that the probability of someone consuming alcohol is much higher (0.93) if we know that this person lost his job, than the probability if we don't know whether this person lost his job (0.84), as seen in the prior marginal."
   ]
  },
  {
   "cell_type": "code",
   "execution_count": 5,
   "metadata": {
    "colab": {
     "base_uri": "https://localhost:8080/",
     "height": 112
    },
    "id": "ZjebkNJoudBA",
    "outputId": "bc0f8dba-1bbe-49b2-afd9-0db95fbad37e"
   },
   "outputs": [
    {
     "data": {
      "text/html": [
       "<div>\n",
       "<style scoped>\n",
       "    .dataframe tbody tr th:only-of-type {\n",
       "        vertical-align: middle;\n",
       "    }\n",
       "\n",
       "    .dataframe tbody tr th {\n",
       "        vertical-align: top;\n",
       "    }\n",
       "\n",
       "    .dataframe thead th {\n",
       "        text-align: right;\n",
       "    }\n",
       "</style>\n",
       "<table border=\"1\" class=\"dataframe\">\n",
       "  <thead>\n",
       "    <tr style=\"text-align: right;\">\n",
       "      <th></th>\n",
       "      <th>Alcohol-consumption</th>\n",
       "      <th>p</th>\n",
       "    </tr>\n",
       "  </thead>\n",
       "  <tbody>\n",
       "    <tr>\n",
       "      <th>0</th>\n",
       "      <td>True</td>\n",
       "      <td>0.93</td>\n",
       "    </tr>\n",
       "    <tr>\n",
       "      <th>1</th>\n",
       "      <td>False</td>\n",
       "      <td>0.07</td>\n",
       "    </tr>\n",
       "  </tbody>\n",
       "</table>\n",
       "</div>"
      ],
      "text/plain": [
       "   Alcohol-consumption     p\n",
       "0                 True  0.93\n",
       "1                False  0.07"
      ]
     },
     "execution_count": 5,
     "metadata": {},
     "output_type": "execute_result"
    }
   ],
   "source": [
    "bn.marginal_distribution([\"Alcohol-consumption\"], {\"Job-loss\": True})"
   ]
  },
  {
   "cell_type": "markdown",
   "metadata": {
    "id": "SxkOeo5rxHeE"
   },
   "source": [
    "The probability of trauma if we know that Alcohol-consumption is true, is 0.86. "
   ]
  },
  {
   "cell_type": "code",
   "execution_count": 6,
   "metadata": {
    "colab": {
     "base_uri": "https://localhost:8080/",
     "height": 112
    },
    "id": "6iLCUAP0xQDu",
    "outputId": "27244c69-699a-42b1-e73c-3d76ed8675f9"
   },
   "outputs": [
    {
     "data": {
      "text/html": [
       "<div>\n",
       "<style scoped>\n",
       "    .dataframe tbody tr th:only-of-type {\n",
       "        vertical-align: middle;\n",
       "    }\n",
       "\n",
       "    .dataframe tbody tr th {\n",
       "        vertical-align: top;\n",
       "    }\n",
       "\n",
       "    .dataframe thead th {\n",
       "        text-align: right;\n",
       "    }\n",
       "</style>\n",
       "<table border=\"1\" class=\"dataframe\">\n",
       "  <thead>\n",
       "    <tr style=\"text-align: right;\">\n",
       "      <th></th>\n",
       "      <th>Trauma</th>\n",
       "      <th>p</th>\n",
       "    </tr>\n",
       "  </thead>\n",
       "  <tbody>\n",
       "    <tr>\n",
       "      <th>0</th>\n",
       "      <td>True</td>\n",
       "      <td>0.864286</td>\n",
       "    </tr>\n",
       "    <tr>\n",
       "      <th>1</th>\n",
       "      <td>False</td>\n",
       "      <td>0.135714</td>\n",
       "    </tr>\n",
       "  </tbody>\n",
       "</table>\n",
       "</div>"
      ],
      "text/plain": [
       "   Trauma         p\n",
       "0    True  0.864286\n",
       "1   False  0.135714"
      ]
     },
     "execution_count": 6,
     "metadata": {},
     "output_type": "execute_result"
    }
   ],
   "source": [
    "bn.marginal_distribution([\"Trauma\"], {\"Alcohol-consumption\": True})"
   ]
  },
  {
   "cell_type": "markdown",
   "metadata": {
    "id": "0WI6PgiPyadS"
   },
   "source": [
    "This probability is slightly decreasing if we know that another direct cause of Trauma, namely Stress, is not the case. Then the probability of having a Trauma is 0.7."
   ]
  },
  {
   "cell_type": "code",
   "execution_count": 7,
   "metadata": {
    "colab": {
     "base_uri": "https://localhost:8080/",
     "height": 112
    },
    "id": "lYgjL_unvJNN",
    "outputId": "81235e66-e4ba-4103-a5c4-de6376a3b12e"
   },
   "outputs": [
    {
     "data": {
      "text/html": [
       "<div>\n",
       "<style scoped>\n",
       "    .dataframe tbody tr th:only-of-type {\n",
       "        vertical-align: middle;\n",
       "    }\n",
       "\n",
       "    .dataframe tbody tr th {\n",
       "        vertical-align: top;\n",
       "    }\n",
       "\n",
       "    .dataframe thead th {\n",
       "        text-align: right;\n",
       "    }\n",
       "</style>\n",
       "<table border=\"1\" class=\"dataframe\">\n",
       "  <thead>\n",
       "    <tr style=\"text-align: right;\">\n",
       "      <th></th>\n",
       "      <th>Trauma</th>\n",
       "      <th>p</th>\n",
       "    </tr>\n",
       "  </thead>\n",
       "  <tbody>\n",
       "    <tr>\n",
       "      <th>0</th>\n",
       "      <td>True</td>\n",
       "      <td>0.7</td>\n",
       "    </tr>\n",
       "    <tr>\n",
       "      <th>1</th>\n",
       "      <td>False</td>\n",
       "      <td>0.3</td>\n",
       "    </tr>\n",
       "  </tbody>\n",
       "</table>\n",
       "</div>"
      ],
      "text/plain": [
       "   Trauma    p\n",
       "0    True  0.7\n",
       "1   False  0.3"
      ]
     },
     "execution_count": 7,
     "metadata": {},
     "output_type": "execute_result"
    }
   ],
   "source": [
    "bn.marginal_distribution([\"Trauma\"], {\"Alcohol-consumption\": True, \"Stress\": False})"
   ]
  },
  {
   "cell_type": "markdown",
   "metadata": {
    "id": "VFfLTUWqz0OZ"
   },
   "source": [
    "# **MAP**\n",
    "\n",
    "---\n",
    "\n",
    "In these examples we show what the most probable instantiation is of a variable in the BN given some evidence.\n",
    "\n",
    "Looking at Weight-gain, we could take into account the evidence of Junk-food. If we know someone eats junk food, then the instantiantiation of weight-gain is most probably False (0.43 is the maximum value of all probable instantions of Weight-gain)"
   ]
  },
  {
   "cell_type": "code",
   "execution_count": 8,
   "metadata": {
    "colab": {
     "base_uri": "https://localhost:8080/",
     "height": 81
    },
    "id": "OobSeFsP9tKQ",
    "outputId": "a40d7af4-c8ed-4760-da8d-117228f98f11"
   },
   "outputs": [
    {
     "data": {
      "text/html": [
       "<div>\n",
       "<style scoped>\n",
       "    .dataframe tbody tr th:only-of-type {\n",
       "        vertical-align: middle;\n",
       "    }\n",
       "\n",
       "    .dataframe tbody tr th {\n",
       "        vertical-align: top;\n",
       "    }\n",
       "\n",
       "    .dataframe thead th {\n",
       "        text-align: right;\n",
       "    }\n",
       "</style>\n",
       "<table border=\"1\" class=\"dataframe\">\n",
       "  <thead>\n",
       "    <tr style=\"text-align: right;\">\n",
       "      <th></th>\n",
       "      <th>Weight-gain</th>\n",
       "      <th>p</th>\n",
       "    </tr>\n",
       "  </thead>\n",
       "  <tbody>\n",
       "    <tr>\n",
       "      <th>0</th>\n",
       "      <td>False</td>\n",
       "      <td>0.43</td>\n",
       "    </tr>\n",
       "  </tbody>\n",
       "</table>\n",
       "</div>"
      ],
      "text/plain": [
       "   Weight-gain     p\n",
       "0        False  0.43"
      ]
     },
     "execution_count": 8,
     "metadata": {},
     "output_type": "execute_result"
    }
   ],
   "source": [
    "bn.map_mpe_estimation(pd.Series({\"Junk-Food\": False}), [\"Weight-gain\"])"
   ]
  },
  {
   "cell_type": "markdown",
   "metadata": {
    "id": "tiyDEub0-X1e"
   },
   "source": [
    "If this person eats junk food, the most probable instantiation of Weight-gain is most probably True (again, considering the instantiation with the highest probability given the evidence)."
   ]
  },
  {
   "cell_type": "code",
   "execution_count": 9,
   "metadata": {
    "colab": {
     "base_uri": "https://localhost:8080/",
     "height": 81
    },
    "id": "_cUWJF0Q9Xt_",
    "outputId": "426375f4-0792-4dea-f279-a4d8cd9457b0"
   },
   "outputs": [
    {
     "data": {
      "text/html": [
       "<div>\n",
       "<style scoped>\n",
       "    .dataframe tbody tr th:only-of-type {\n",
       "        vertical-align: middle;\n",
       "    }\n",
       "\n",
       "    .dataframe tbody tr th {\n",
       "        vertical-align: top;\n",
       "    }\n",
       "\n",
       "    .dataframe thead th {\n",
       "        text-align: right;\n",
       "    }\n",
       "</style>\n",
       "<table border=\"1\" class=\"dataframe\">\n",
       "  <thead>\n",
       "    <tr style=\"text-align: right;\">\n",
       "      <th></th>\n",
       "      <th>Weight-gain</th>\n",
       "      <th>p</th>\n",
       "    </tr>\n",
       "  </thead>\n",
       "  <tbody>\n",
       "    <tr>\n",
       "      <th>0</th>\n",
       "      <td>True</td>\n",
       "      <td>0.32</td>\n",
       "    </tr>\n",
       "  </tbody>\n",
       "</table>\n",
       "</div>"
      ],
      "text/plain": [
       "   Weight-gain     p\n",
       "0         True  0.32"
      ]
     },
     "execution_count": 9,
     "metadata": {},
     "output_type": "execute_result"
    }
   ],
   "source": [
    "bn.map_mpe_estimation(pd.Series({\"Junk-Food\": True}), [\"Weight-gain\"])"
   ]
  },
  {
   "cell_type": "markdown",
   "metadata": {
    "id": "ArlWO7WMBXDE"
   },
   "source": [
    "# **MPE**\n",
    "\n",
    "In the following example, the functionality of the MPE function is showed. MPE is a special case of MAP where no query is given. So, the most probable instantiations of Weight-gain = False and Stress = True are as follows."
   ]
  },
  {
   "cell_type": "code",
   "execution_count": 10,
   "metadata": {
    "colab": {
     "base_uri": "https://localhost:8080/",
     "height": 81
    },
    "id": "hzqBvnPABnYU",
    "outputId": "7f215103-8bbd-48b9-ab51-8e07d3840055"
   },
   "outputs": [
    {
     "data": {
      "text/html": [
       "<div>\n",
       "<style scoped>\n",
       "    .dataframe tbody tr th:only-of-type {\n",
       "        vertical-align: middle;\n",
       "    }\n",
       "\n",
       "    .dataframe tbody tr th {\n",
       "        vertical-align: top;\n",
       "    }\n",
       "\n",
       "    .dataframe thead th {\n",
       "        text-align: right;\n",
       "    }\n",
       "</style>\n",
       "<table border=\"1\" class=\"dataframe\">\n",
       "  <thead>\n",
       "    <tr style=\"text-align: right;\">\n",
       "      <th></th>\n",
       "      <th>Stress</th>\n",
       "      <th>Job-loss</th>\n",
       "      <th>Weight-gain</th>\n",
       "      <th>Depression</th>\n",
       "      <th>High-blood-pressure</th>\n",
       "      <th>Insulin-resistance</th>\n",
       "      <th>Junk-Food</th>\n",
       "      <th>Alcohol-consumption</th>\n",
       "      <th>Trauma</th>\n",
       "      <th>Anxiety</th>\n",
       "      <th>Diabetes</th>\n",
       "      <th>Stroke</th>\n",
       "      <th>p</th>\n",
       "    </tr>\n",
       "  </thead>\n",
       "  <tbody>\n",
       "    <tr>\n",
       "      <th>0</th>\n",
       "      <td>True</td>\n",
       "      <td>True</td>\n",
       "      <td>False</td>\n",
       "      <td>True</td>\n",
       "      <td>True</td>\n",
       "      <td>False</td>\n",
       "      <td>False</td>\n",
       "      <td>True</td>\n",
       "      <td>True</td>\n",
       "      <td>True</td>\n",
       "      <td>True</td>\n",
       "      <td>True</td>\n",
       "      <td>0.059793</td>\n",
       "    </tr>\n",
       "  </tbody>\n",
       "</table>\n",
       "</div>"
      ],
      "text/plain": [
       "   Stress  Job-loss  Weight-gain  Depression  High-blood-pressure  \\\n",
       "0    True      True        False        True                 True   \n",
       "\n",
       "   Insulin-resistance  Junk-Food  Alcohol-consumption  Trauma  Anxiety  \\\n",
       "0               False      False                 True    True     True   \n",
       "\n",
       "   Diabetes  Stroke         p  \n",
       "0      True    True  0.059793  "
      ]
     },
     "execution_count": 10,
     "metadata": {},
     "output_type": "execute_result"
    }
   ],
   "source": [
    "bn.map_mpe_estimation(pd.Series({\"Weight-gain\": False, \"Stress\": True}))"
   ]
  },
  {
   "cell_type": "markdown",
   "metadata": {
    "id": "QtfyLMm0EqpU"
   },
   "source": [
    "This is indeed the most probable instantiation of both Weight-gain and Stress, since this combination has the highest probability out of a joint distribution:"
   ]
  },
  {
   "cell_type": "code",
   "execution_count": 11,
   "metadata": {
    "colab": {
     "base_uri": "https://localhost:8080/",
     "height": 175
    },
    "id": "vpOX3JyCEKOL",
    "outputId": "50e8c3db-796f-418d-aea7-3cf88551f2c0"
   },
   "outputs": [
    {
     "data": {
      "text/html": [
       "<div>\n",
       "<style scoped>\n",
       "    .dataframe tbody tr th:only-of-type {\n",
       "        vertical-align: middle;\n",
       "    }\n",
       "\n",
       "    .dataframe tbody tr th {\n",
       "        vertical-align: top;\n",
       "    }\n",
       "\n",
       "    .dataframe thead th {\n",
       "        text-align: right;\n",
       "    }\n",
       "</style>\n",
       "<table border=\"1\" class=\"dataframe\">\n",
       "  <thead>\n",
       "    <tr style=\"text-align: right;\">\n",
       "      <th></th>\n",
       "      <th>Junk-Food</th>\n",
       "      <th>Job-loss</th>\n",
       "      <th>Insulin-resistance</th>\n",
       "      <th>Anxiety</th>\n",
       "      <th>High-blood-pressure</th>\n",
       "      <th>Alcohol-consumption</th>\n",
       "      <th>Trauma</th>\n",
       "      <th>Diabetes</th>\n",
       "      <th>Depression</th>\n",
       "      <th>Stroke</th>\n",
       "      <th>p</th>\n",
       "    </tr>\n",
       "  </thead>\n",
       "  <tbody>\n",
       "    <tr>\n",
       "      <th>0</th>\n",
       "      <td>False</td>\n",
       "      <td>True</td>\n",
       "      <td>True</td>\n",
       "      <td>True</td>\n",
       "      <td>True</td>\n",
       "      <td>True</td>\n",
       "      <td>True</td>\n",
       "      <td>True</td>\n",
       "      <td>True</td>\n",
       "      <td>True</td>\n",
       "      <td>5.144954e-03</td>\n",
       "    </tr>\n",
       "    <tr>\n",
       "      <th>1</th>\n",
       "      <td>False</td>\n",
       "      <td>True</td>\n",
       "      <td>True</td>\n",
       "      <td>True</td>\n",
       "      <td>True</td>\n",
       "      <td>True</td>\n",
       "      <td>True</td>\n",
       "      <td>True</td>\n",
       "      <td>True</td>\n",
       "      <td>False</td>\n",
       "      <td>1.714985e-03</td>\n",
       "    </tr>\n",
       "    <tr>\n",
       "      <th>2</th>\n",
       "      <td>False</td>\n",
       "      <td>True</td>\n",
       "      <td>True</td>\n",
       "      <td>True</td>\n",
       "      <td>True</td>\n",
       "      <td>True</td>\n",
       "      <td>True</td>\n",
       "      <td>True</td>\n",
       "      <td>False</td>\n",
       "      <td>True</td>\n",
       "      <td>5.716616e-04</td>\n",
       "    </tr>\n",
       "    <tr>\n",
       "      <th>3</th>\n",
       "      <td>False</td>\n",
       "      <td>True</td>\n",
       "      <td>True</td>\n",
       "      <td>True</td>\n",
       "      <td>True</td>\n",
       "      <td>True</td>\n",
       "      <td>True</td>\n",
       "      <td>True</td>\n",
       "      <td>False</td>\n",
       "      <td>False</td>\n",
       "      <td>1.905539e-04</td>\n",
       "    </tr>\n",
       "    <tr>\n",
       "      <th>4</th>\n",
       "      <td>False</td>\n",
       "      <td>True</td>\n",
       "      <td>True</td>\n",
       "      <td>True</td>\n",
       "      <td>True</td>\n",
       "      <td>True</td>\n",
       "      <td>True</td>\n",
       "      <td>False</td>\n",
       "      <td>True</td>\n",
       "      <td>True</td>\n",
       "      <td>9.079331e-04</td>\n",
       "    </tr>\n",
       "    <tr>\n",
       "      <th>...</th>\n",
       "      <td>...</td>\n",
       "      <td>...</td>\n",
       "      <td>...</td>\n",
       "      <td>...</td>\n",
       "      <td>...</td>\n",
       "      <td>...</td>\n",
       "      <td>...</td>\n",
       "      <td>...</td>\n",
       "      <td>...</td>\n",
       "      <td>...</td>\n",
       "      <td>...</td>\n",
       "    </tr>\n",
       "    <tr>\n",
       "      <th>507</th>\n",
       "      <td>False</td>\n",
       "      <td>False</td>\n",
       "      <td>False</td>\n",
       "      <td>False</td>\n",
       "      <td>False</td>\n",
       "      <td>False</td>\n",
       "      <td>False</td>\n",
       "      <td>True</td>\n",
       "      <td>False</td>\n",
       "      <td>False</td>\n",
       "      <td>2.793477e-05</td>\n",
       "    </tr>\n",
       "    <tr>\n",
       "      <th>508</th>\n",
       "      <td>False</td>\n",
       "      <td>False</td>\n",
       "      <td>False</td>\n",
       "      <td>False</td>\n",
       "      <td>False</td>\n",
       "      <td>False</td>\n",
       "      <td>False</td>\n",
       "      <td>False</td>\n",
       "      <td>True</td>\n",
       "      <td>True</td>\n",
       "      <td>1.531152e-08</td>\n",
       "    </tr>\n",
       "    <tr>\n",
       "      <th>509</th>\n",
       "      <td>False</td>\n",
       "      <td>False</td>\n",
       "      <td>False</td>\n",
       "      <td>False</td>\n",
       "      <td>False</td>\n",
       "      <td>False</td>\n",
       "      <td>False</td>\n",
       "      <td>False</td>\n",
       "      <td>True</td>\n",
       "      <td>False</td>\n",
       "      <td>4.593456e-08</td>\n",
       "    </tr>\n",
       "    <tr>\n",
       "      <th>510</th>\n",
       "      <td>False</td>\n",
       "      <td>False</td>\n",
       "      <td>False</td>\n",
       "      <td>False</td>\n",
       "      <td>False</td>\n",
       "      <td>False</td>\n",
       "      <td>False</td>\n",
       "      <td>False</td>\n",
       "      <td>False</td>\n",
       "      <td>True</td>\n",
       "      <td>1.515840e-06</td>\n",
       "    </tr>\n",
       "    <tr>\n",
       "      <th>511</th>\n",
       "      <td>False</td>\n",
       "      <td>False</td>\n",
       "      <td>False</td>\n",
       "      <td>False</td>\n",
       "      <td>False</td>\n",
       "      <td>False</td>\n",
       "      <td>False</td>\n",
       "      <td>False</td>\n",
       "      <td>False</td>\n",
       "      <td>False</td>\n",
       "      <td>4.547521e-06</td>\n",
       "    </tr>\n",
       "  </tbody>\n",
       "</table>\n",
       "<p>512 rows × 11 columns</p>\n",
       "</div>"
      ],
      "text/plain": [
       "     Junk-Food  Job-loss  Insulin-resistance  Anxiety  High-blood-pressure  \\\n",
       "0        False      True                True     True                 True   \n",
       "1        False      True                True     True                 True   \n",
       "2        False      True                True     True                 True   \n",
       "3        False      True                True     True                 True   \n",
       "4        False      True                True     True                 True   \n",
       "..         ...       ...                 ...      ...                  ...   \n",
       "507      False     False               False    False                False   \n",
       "508      False     False               False    False                False   \n",
       "509      False     False               False    False                False   \n",
       "510      False     False               False    False                False   \n",
       "511      False     False               False    False                False   \n",
       "\n",
       "     Alcohol-consumption  Trauma  Diabetes  Depression  Stroke             p  \n",
       "0                   True    True      True        True    True  5.144954e-03  \n",
       "1                   True    True      True        True   False  1.714985e-03  \n",
       "2                   True    True      True       False    True  5.716616e-04  \n",
       "3                   True    True      True       False   False  1.905539e-04  \n",
       "4                   True    True     False        True    True  9.079331e-04  \n",
       "..                   ...     ...       ...         ...     ...           ...  \n",
       "507                False   False      True       False   False  2.793477e-05  \n",
       "508                False   False     False        True    True  1.531152e-08  \n",
       "509                False   False     False        True   False  4.593456e-08  \n",
       "510                False   False     False       False    True  1.515840e-06  \n",
       "511                False   False     False       False   False  4.547521e-06  \n",
       "\n",
       "[512 rows x 11 columns]"
      ]
     },
     "execution_count": 11,
     "metadata": {},
     "output_type": "execute_result"
    }
   ],
   "source": [
    "bn.joint_probability(E={\"Weight-gain\": False, \"Stress\": True})"
   ]
  },
  {
   "cell_type": "markdown",
   "metadata": {
    "id": "zQF80mNQPa8p"
   },
   "source": [
    "# **D-separation**\n",
    "\n",
    "In the examples below, the functionality of d-separation is shown. Job loss is not independent of trauma if alcohol-consumption is known. That is, because there is an active path from Job-loss to Trauma through Stress."
   ]
  },
  {
   "cell_type": "code",
   "execution_count": 12,
   "metadata": {
    "colab": {
     "base_uri": "https://localhost:8080/"
    },
    "id": "Bb0v8gZf9wRV",
    "outputId": "a515ba46-b764-4758-e28c-aa80e216b46c"
   },
   "outputs": [
    {
     "ename": "AttributeError",
     "evalue": "'BNReasoner' object has no attribute 'd_separation_with_pruning'",
     "output_type": "error",
     "traceback": [
      "\u001b[1;31m---------------------------------------------------------------------------\u001b[0m",
      "\u001b[1;31mAttributeError\u001b[0m                            Traceback (most recent call last)",
      "\u001b[1;32mC:\\Users\\ALEXHO~1\\AppData\\Local\\Temp/ipykernel_18324/3959510921.py\u001b[0m in \u001b[0;36m<module>\u001b[1;34m\u001b[0m\n\u001b[1;32m----> 1\u001b[1;33m \u001b[0mbn\u001b[0m\u001b[1;33m.\u001b[0m\u001b[0md_separation_with_pruning\u001b[0m\u001b[1;33m(\u001b[0m\u001b[1;33m[\u001b[0m\u001b[1;34m\"Job-loss\"\u001b[0m\u001b[1;33m]\u001b[0m\u001b[1;33m,\u001b[0m \u001b[1;33m[\u001b[0m\u001b[1;34m\"Alcohol-consumption\"\u001b[0m\u001b[1;33m]\u001b[0m\u001b[1;33m,\u001b[0m \u001b[1;33m[\u001b[0m\u001b[1;34m\"Trauma\"\u001b[0m\u001b[1;33m]\u001b[0m\u001b[1;33m)\u001b[0m\u001b[1;33m\u001b[0m\u001b[1;33m\u001b[0m\u001b[0m\n\u001b[0m",
      "\u001b[1;31mAttributeError\u001b[0m: 'BNReasoner' object has no attribute 'd_separation_with_pruning'"
     ]
    }
   ],
   "source": [
    "bn.d_separation_with_pruning([\"Job-loss\"], [\"Alcohol-consumption\"], [\"Trauma\"])"
   ]
  },
  {
   "cell_type": "markdown",
   "metadata": {
    "id": "n5BvTu3g3aEh"
   },
   "source": [
    " But, if Stress is added to the evidence, job loss is independent of trauma. "
   ]
  },
  {
   "cell_type": "code",
   "execution_count": null,
   "metadata": {
    "colab": {
     "base_uri": "https://localhost:8080/"
    },
    "id": "1dE2iAmKINe_",
    "outputId": "e5e28dc2-95e9-4247-b50f-9ebbbfefb064"
   },
   "outputs": [],
   "source": [
    "bn.d_separation_with_pruning(\n",
    "    [\"Job-loss\"], [\"Alcohol-consumption\", \"Stress\"], [\"Trauma\"]\n",
    ")"
   ]
  },
  {
   "cell_type": "markdown",
   "metadata": {
    "id": "KRxPFmtkFz7t"
   },
   "source": [
    "A convergent valve ->W<- is only blocked if it is not in the evidence set and neither are its descendents. For example, Job-loss is not d-seperated from Stress by Alcohol-consumption:"
   ]
  },
  {
   "cell_type": "code",
   "execution_count": null,
   "metadata": {
    "colab": {
     "base_uri": "https://localhost:8080/"
    },
    "id": "0kcPiJBTFhGP",
    "outputId": "f1d7e64a-7d47-49b3-a0ea-f83788cbdb26"
   },
   "outputs": [],
   "source": [
    "bn.d_separation_with_pruning([\"Job-loss\"], [\"Alcohol-consumption\"], [\"Stress\"])"
   ]
  },
  {
   "cell_type": "markdown",
   "metadata": {
    "id": "Ha2lvq7gGQ9z"
   },
   "source": [
    "But if Alcohol consumption or any if its descendents (Trauma) is not given, the path to Stress is blocked:"
   ]
  },
  {
   "cell_type": "code",
   "execution_count": null,
   "metadata": {
    "colab": {
     "base_uri": "https://localhost:8080/"
    },
    "id": "ul1eiOWjFnvi",
    "outputId": "e2669f3c-b566-439c-a950-744c5c1410ca"
   },
   "outputs": [],
   "source": [
    "bn.d_separation_with_pruning([\"Job-loss\"], [], [\"Stress\"])"
   ]
  },
  {
   "cell_type": "code",
   "execution_count": null,
   "metadata": {
    "colab": {
     "base_uri": "https://localhost:8080/"
    },
    "id": "cIBGm67sFql1",
    "outputId": "8cd5aa60-d71e-4737-9b3d-2a12cc52547c"
   },
   "outputs": [],
   "source": [
    "bn.d_separation_with_pruning([\"Job-loss\"], [\"Trauma\"], [\"Stress\"])"
   ]
  }
 ],
 "metadata": {
  "colab": {
   "collapsed_sections": [],
   "name": "Medical_use_case.ipynb",
   "provenance": [],
   "toc_visible": true
  },
  "kernelspec": {
   "display_name": "Python 3 (ipykernel)",
   "language": "python",
   "name": "python3"
  },
  "language_info": {
   "codemirror_mode": {
    "name": "ipython",
    "version": 3
   },
   "file_extension": ".py",
   "mimetype": "text/x-python",
   "name": "python",
   "nbconvert_exporter": "python",
   "pygments_lexer": "ipython3",
   "version": "3.9.7"
  }
 },
 "nbformat": 4,
 "nbformat_minor": 4
}
