{
 "cells": [
  {
   "cell_type": "code",
   "execution_count": 1,
   "id": "e3820218-0e00-4833-aafe-1521d76fb2d8",
   "metadata": {
    "scrolled": true
   },
   "outputs": [],
   "source": [
<<<<<<< HEAD
    "%run BayesNet.py\n",
    "%run BNReasoner.py\n",
    "#%matplotlib inline\n",
=======
    "%matplotlib inline\n",
    "\n",
    "# So it's not necessary to restart the kernel after updating any other file\n",
    "%load_ext autoreload\n",
    "%autoreload 2\n",
    "\n",
>>>>>>> 55b59b0b2661a363794035e9239ae969047cf870
    "#import matplotlib.pyplot as plt"
   ]
  },
  {
   "cell_type": "code",
   "execution_count": 2,
   "id": "7d96cb6b-ce4c-4618-aad8-52d5214cf80a",
   "metadata": {},
<<<<<<< HEAD
   "outputs": [],
=======
   "outputs": [
    {
     "data": {
      "text/plain": [
       "['Winter?', 'Sprinkler?', 'Rain?', 'Wet Grass?', 'Slippery Road?']"
      ]
     },
     "execution_count": 2,
     "metadata": {},
     "output_type": "execute_result"
    }
   ],
>>>>>>> 55b59b0b2661a363794035e9239ae969047cf870
   "source": [
    "from BNReasoner import BNReasoner\n",
    "from BayesNet import BayesNet\n",
    "import networkx as nx\n",
    "\n",
    "net = BayesNet()\n",
    "bn = BNReasoner(net)\n",
    "\n",
    "net.load_from_bifxml('testing/lecture_example.BIFXML')\n",
    "net.get_all_variables()\n",
    "graph = net.get_interaction_graph()\n",
    "#net.draw_structure()"
   ]
  },
  {
   "cell_type": "code",
   "execution_count": null,
   "id": "2097e203",
   "metadata": {},
   "outputs": [],
   "source": [
    "# Sets XSet and Yset are independent given EvSet \n",
    "# # iff every path between a variable in XSet and a variable in YSet \n",
    "# are blocked by a variable in EvSet\n",
    "\n",
    "def d_sep_indep(G,XSet,EvSet,YSet):\n",
    "    # Find all undirected paths between vars of XSet and YSet\n",
    "    for X in XSet:\n",
    "        for Y in YSet:\n",
    "            for path in nx.all_shortest_paths(G, X, Y):\n",
    "                # Only if ALL paths are blocked, there is independence\n",
    "                #if blocked(path, EvSet) == False:\n",
    "                 #   return False\n",
    "                print(block(path,X,Y,EvSet))\n",
    "                print(len(path))    \n",
    "    return True\n",
    "\n",
    "\n",
    "def block (p, X,Y,Z):\n",
    "    # sequential valve\n",
    "    for step in range(0,len(p)-2):\n",
    "        if (p[step+1] in net.get_children(p[step]) and p[step+2] in net.get_children(p[step+1])):\n",
    "            if p[step+1] not in Z:\n",
    "                return False\n",
    "        #converging valve\n",
    "        if p[step+1] in net.get_children(p[step]) and p[step+1] in net.get_children(p[step+2]):\n",
    "            if p[step+1] in Z or nx.descendants(graph,p[step+1]) in Z:\n",
    "                return False\n",
    "        #diverging valve\n",
    "        if p[step] in net.get_children(p[step+1]) and p[step+2] in net.get_children(p[step+1]):\n",
    "            return False \n",
    "    \n",
    "\n",
    "# Check if path is blocked by some variable in EvSet\n",
    "def blocked(p, evlist):\n",
    "    ev_on_path = intersection(p, evlist)\n",
    "    # If intersectionSet is not empty, the path is blocked\n",
    "    if len(ev_on_path):\n",
    "        return True\n",
    "    else: \n",
    "        return False\n",
    "        \n",
    "# Return intersectionset of two lists        \n",
    "def intersection(A, B):\n",
    "    return set(A).intersection(B)\n",
    "\n"
   ]
  },
  {
   "cell_type": "code",
   "execution_count": null,
   "id": "1d1d6978",
   "metadata": {},
   "outputs": [],
   "source": [
    "#check 1: winter is not independent of wet grass given JUST rain\n",
    "print(d_sep_indep(graph,['Winter?'],['Rain?'],['Wet Grass?']))\n",
    "\n",
    "#check 2: winter is independent of wet grass given rain AND sprinkler\n",
    "print(d_sep_indep(graph,['Winter?'],['Rain?','Sprinkler?'],['Wet Grass?']))\n",
    "\n",
    "#check 3: Winter is independent of slippery road given rain \n",
    "print(d_sep_indep(graph,['Winter?'],['Rain?'],['Slippery Road?']))\n",
    "\n",
    "#check 4: Winter is NOT independent of Slippery road given sprinkler and wet grass\n",
    "print(d_sep_indep(graph,['Winter?'],['Sprinkler?','Wet Grass?'],['Slippery Road?']))\n",
    "\n"
   ]
  },
  {
   "cell_type": "code",
   "execution_count": null,
   "id": "77258480",
   "metadata": {},
   "outputs": [],
   "source": []
  },
  {
   "cell_type": "code",
   "execution_count": 7,
   "id": "408c8b6b",
   "metadata": {},
   "outputs": [
    {
     "data": {
      "text/html": [
       "<div>\n",
       "<style scoped>\n",
       "    .dataframe tbody tr th:only-of-type {\n",
       "        vertical-align: middle;\n",
       "    }\n",
       "\n",
       "    .dataframe tbody tr th {\n",
       "        vertical-align: top;\n",
       "    }\n",
       "\n",
       "    .dataframe thead th {\n",
       "        text-align: right;\n",
       "    }\n",
       "</style>\n",
       "<table border=\"1\" class=\"dataframe\">\n",
       "  <thead>\n",
       "    <tr style=\"text-align: right;\">\n",
       "      <th></th>\n",
       "      <th>Winter?</th>\n",
       "      <th>Sprinkler?</th>\n",
       "      <th>Rain?</th>\n",
       "      <th>Wet Grass?</th>\n",
       "      <th>Slippery Road?</th>\n",
       "      <th>p</th>\n",
       "    </tr>\n",
       "  </thead>\n",
       "  <tbody>\n",
       "    <tr>\n",
       "      <th>0</th>\n",
       "      <td>True</td>\n",
       "      <td>True</td>\n",
       "      <td>True</td>\n",
       "      <td>True</td>\n",
       "      <td>True</td>\n",
       "      <td>0.06384</td>\n",
       "    </tr>\n",
       "    <tr>\n",
       "      <th>1</th>\n",
       "      <td>False</td>\n",
       "      <td>True</td>\n",
       "      <td>True</td>\n",
       "      <td>True</td>\n",
       "      <td>True</td>\n",
       "      <td>0.01995</td>\n",
       "    </tr>\n",
       "    <tr>\n",
       "      <th>2</th>\n",
       "      <td>True</td>\n",
       "      <td>True</td>\n",
       "      <td>True</td>\n",
       "      <td>False</td>\n",
       "      <td>True</td>\n",
       "      <td>0.00336</td>\n",
       "    </tr>\n",
       "    <tr>\n",
       "      <th>3</th>\n",
       "      <td>False</td>\n",
       "      <td>True</td>\n",
       "      <td>True</td>\n",
       "      <td>False</td>\n",
       "      <td>True</td>\n",
       "      <td>0.00105</td>\n",
       "    </tr>\n",
       "    <tr>\n",
       "      <th>4</th>\n",
       "      <td>True</td>\n",
       "      <td>False</td>\n",
       "      <td>True</td>\n",
       "      <td>True</td>\n",
       "      <td>True</td>\n",
       "      <td>0.21504</td>\n",
       "    </tr>\n",
       "  </tbody>\n",
       "</table>\n",
       "</div>"
      ],
      "text/plain": [
       "   Winter?  Sprinkler?  Rain?  Wet Grass?  Slippery Road?        p\n",
       "0     True        True   True        True            True  0.06384\n",
       "1    False        True   True        True            True  0.01995\n",
       "2     True        True   True       False            True  0.00336\n",
       "3    False        True   True       False            True  0.00105\n",
       "4     True       False   True        True            True  0.21504"
      ]
     },
     "execution_count": 7,
     "metadata": {},
     "output_type": "execute_result"
    }
   ],
   "source": [
    "# Joint probability gets the full truth table with probability\n",
    "p = bn.joint_probability()\n",
    "p.head()"
   ]
  },
  {
   "cell_type": "code",
   "execution_count": 6,
   "id": "efb3e69b",
   "metadata": {},
   "outputs": [
    {
     "data": {
      "text/html": [
       "<div>\n",
       "<style scoped>\n",
       "    .dataframe tbody tr th:only-of-type {\n",
       "        vertical-align: middle;\n",
       "    }\n",
       "\n",
       "    .dataframe tbody tr th {\n",
       "        vertical-align: top;\n",
       "    }\n",
       "\n",
       "    .dataframe thead th {\n",
       "        text-align: right;\n",
       "    }\n",
       "</style>\n",
       "<table border=\"1\" class=\"dataframe\">\n",
       "  <thead>\n",
       "    <tr style=\"text-align: right;\">\n",
       "      <th></th>\n",
       "      <th>Winter?</th>\n",
       "      <th>Sprinkler?</th>\n",
       "      <th>Wet Grass?</th>\n",
       "      <th>p</th>\n",
       "    </tr>\n",
       "  </thead>\n",
       "  <tbody>\n",
       "    <tr>\n",
       "      <th>2</th>\n",
       "      <td>False</td>\n",
       "      <td>True</td>\n",
       "      <td>False</td>\n",
       "      <td>0.0285</td>\n",
       "    </tr>\n",
       "    <tr>\n",
       "      <th>6</th>\n",
       "      <td>True</td>\n",
       "      <td>True</td>\n",
       "      <td>False</td>\n",
       "      <td>0.0072</td>\n",
       "    </tr>\n",
       "  </tbody>\n",
       "</table>\n",
       "</div>"
      ],
      "text/plain": [
       "   Winter?  Sprinkler?  Wet Grass?       p\n",
       "2    False        True       False  0.0285\n",
       "6     True        True       False  0.0072"
      ]
     },
     "execution_count": 6,
     "metadata": {},
     "output_type": "execute_result"
    }
   ],
   "source": [
    "bn.marginal_distribution(\n",
    "    [\"Winter?\", \"Sprinkler?\", \"Wet Grass?\"],\n",
    "    evidence={\"Wet Grass?\": False, \"Sprinkler?\": True},\n",
    ")"
   ]
  }
 ],
 "metadata": {
  "kernelspec": {
   "display_name": "Python 3 (ipykernel)",
   "language": "python",
   "name": "python3"
  },
  "language_info": {
   "codemirror_mode": {
    "name": "ipython",
    "version": 3
   },
   "file_extension": ".py",
   "mimetype": "text/x-python",
   "name": "python",
   "nbconvert_exporter": "python",
   "pygments_lexer": "ipython3",
   "version": "3.9.7"
  }
 },
 "nbformat": 4,
 "nbformat_minor": 5
}
