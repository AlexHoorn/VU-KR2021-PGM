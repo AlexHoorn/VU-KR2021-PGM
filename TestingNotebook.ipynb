{
 "cells": [
  {
   "cell_type": "code",
   "execution_count": 1,
   "id": "e3820218-0e00-4833-aafe-1521d76fb2d8",
   "metadata": {
    "scrolled": true
   },
   "outputs": [],
   "source": [
    "%run BayesNet.py\n",
    "%run BNReasoner.py\n",
    "#%matplotlib inline\n",
    "#import matplotlib.pyplot as plt"
   ]
  },
  {
   "cell_type": "code",
   "execution_count": 2,
   "id": "7d96cb6b-ce4c-4618-aad8-52d5214cf80a",
   "metadata": {},
   "outputs": [],
   "source": [
    "from BNReasoner import BNReasoner\n",
    "from BayesNet import BayesNet\n",
    "import networkx as nx\n",
    "\n",
    "net = BayesNet()\n",
    "bn = BNReasoner(net)\n",
    "\n",
    "net.load_from_bifxml('testing/lecture_example.BIFXML')\n",
    "net.get_all_variables()\n",
    "graph = net.get_interaction_graph()\n",
    "#net.draw_structure()"
   ]
  },
  {
   "cell_type": "code",
   "execution_count": null,
   "id": "2097e203",
   "metadata": {},
   "outputs": [],
   "source": [
    "# Sets XSet and Yset are independent given EvSet \n",
    "# # iff every path between a variable in XSet and a variable in YSet \n",
    "# are blocked by a variable in EvSet\n",
    "\n",
    "def d_sep_indep(G,XSet,EvSet,YSet):\n",
    "    # Find all undirected paths between vars of XSet and YSet\n",
    "    for X in XSet:\n",
    "        for Y in YSet:\n",
    "            for path in nx.all_shortest_paths(G, X, Y):\n",
    "                # Only if ALL paths are blocked, there is independence\n",
    "                #if blocked(path, EvSet) == False:\n",
    "                 #   return False\n",
    "                print(block(path,X,Y,EvSet))\n",
    "                print(len(path))    \n",
    "    return True\n",
    "\n",
    "\n",
    "def block (p, X,Y,Z):\n",
    "    # sequential valve\n",
    "    for step in range(0,len(p)-2):\n",
    "        if (p[step+1] in net.get_children(p[step]) and p[step+2] in net.get_children(p[step+1])):\n",
    "            if p[step+1] not in Z:\n",
    "                return False\n",
    "        #converging valve\n",
    "        if p[step+1] in net.get_children(p[step]) and p[step+1] in net.get_children(p[step+2]):\n",
    "            if p[step+1] in Z or nx.descendants(graph,p[step+1]) in Z:\n",
    "                return False\n",
    "        #diverging valve\n",
    "        if p[step] in net.get_children(p[step+1]) and p[step+2] in net.get_children(p[step+1]):\n",
    "            return False \n",
    "    \n",
    "\n",
    "# Check if path is blocked by some variable in EvSet\n",
    "def blocked(p, evlist):\n",
    "    ev_on_path = intersection(p, evlist)\n",
    "    # If intersectionSet is not empty, the path is blocked\n",
    "    if len(ev_on_path):\n",
    "        return True\n",
    "    else: \n",
    "        return False\n",
    "        \n",
    "# Return intersectionset of two lists        \n",
    "def intersection(A, B):\n",
    "    return set(A).intersection(B)\n",
    "\n"
   ]
  },
  {
   "cell_type": "code",
   "execution_count": null,
   "id": "1d1d6978",
   "metadata": {},
   "outputs": [],
   "source": [
    "#check 1: winter is not independent of wet grass given JUST rain\n",
    "print(d_sep_indep(graph,['Winter?'],['Rain?'],['Wet Grass?']))\n",
    "\n",
    "#check 2: winter is independent of wet grass given rain AND sprinkler\n",
    "print(d_sep_indep(graph,['Winter?'],['Rain?','Sprinkler?'],['Wet Grass?']))\n",
    "\n",
    "#check 3: Winter is independent of slippery road given rain \n",
    "print(d_sep_indep(graph,['Winter?'],['Rain?'],['Slippery Road?']))\n",
    "\n",
    "#check 4: Winter is NOT independent of Slippery road given sprinkler and wet grass\n",
    "print(d_sep_indep(graph,['Winter?'],['Sprinkler?','Wet Grass?'],['Slippery Road?']))\n",
    "\n"
   ]
  },
  {
   "cell_type": "code",
   "execution_count": null,
   "id": "77258480",
   "metadata": {},
   "outputs": [],
   "source": []
  }
 ],
 "metadata": {
  "kernelspec": {
   "display_name": "Python 3 (ipykernel)",
   "language": "python",
   "name": "python3"
  },
  "language_info": {
   "codemirror_mode": {
    "name": "ipython",
    "version": 3
   },
   "file_extension": ".py",
   "mimetype": "text/x-python",
   "name": "python",
   "nbconvert_exporter": "python",
   "pygments_lexer": "ipython3",
   "version": "3.9.7"
  }
 },
 "nbformat": 4,
 "nbformat_minor": 5
}
